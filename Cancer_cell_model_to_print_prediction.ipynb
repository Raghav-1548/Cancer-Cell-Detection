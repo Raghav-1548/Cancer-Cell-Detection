{
  "nbformat": 4,
  "nbformat_minor": 0,
  "metadata": {
    "colab": {
      "provenance": [],
      "authorship_tag": "ABX9TyND8mFxoc09pyO3y7yt/Ia2",
      "include_colab_link": true
    },
    "kernelspec": {
      "name": "python3",
      "display_name": "Python 3"
    },
    "language_info": {
      "name": "python"
    }
  },
  "cells": [
    {
      "cell_type": "markdown",
      "metadata": {
        "id": "view-in-github",
        "colab_type": "text"
      },
      "source": [
        "<a href=\"https://colab.research.google.com/github/Raghav-1548/Cancer-Cell-Detection/blob/main/Cancer_cell_model_to_print_prediction.ipynb\" target=\"_parent\"><img src=\"https://colab.research.google.com/assets/colab-badge.svg\" alt=\"Open In Colab\"/></a>"
      ]
    },
    {
      "cell_type": "code",
      "source": [
        "from tensorflow import keras\n",
        "from PIL import Image\n",
        "import numpy as np\n",
        "model = keras.models.load_model(\"/content/cancercell.h5\")\n",
        "\n",
        "img_path = input('Enter the Skin cancer cell image path: ')\n",
        "img = Image.open(img_path)\n",
        "\n",
        "img_array = np.array(img)\n",
        "\n",
        "img_array = img_array / 255 \n",
        "\n",
        "img = Image.fromarray(np.uint8(img_array * 255))\n",
        "img = img.resize((32, 32))\n",
        "\n",
        "img_array = np.array(img)\n",
        "\n",
        "\n",
        "img_array = np.expand_dims(img_array, axis=0)\n",
        "\n",
        "\n",
        "predictions = model.predict(img_array)\n",
        "\n",
        "class_index = np.argmax(predictions)\n",
        "class_labels = {0: \"Actinic keratoses (akiec)\", 1: \"Basal cell carcinoma (bcc) \", 2: \"Benign keratosis-like lesions (bkl)\", 3: \"Dermatofibroma (df)\", 4: \"Melanocytic nevi (nv)\", 5: \"Melanocytic nevi (nv)\", 6: \"Vascular lesions (vas)\"}\n",
        "class_label = class_labels[class_index]\n",
        "\n",
        "print(\"The class of the Skin cancer cell is: \",class_label)"
      ],
      "metadata": {
        "colab": {
          "base_uri": "https://localhost:8080/"
        },
        "id": "IQsDU3k3Wa6b",
        "outputId": "00e794e1-7df7-48e7-a9d3-07aff309edf6"
      },
      "execution_count": null,
      "outputs": [
        {
          "output_type": "stream",
          "name": "stdout",
          "text": [
            "Enter the Skin cancer cell image path: /content/bcc.jpg\n",
            "1/1 [==============================] - 0s 75ms/step\n",
            "The class of the Skin cancer cell is:  Melanocytic nevi (nv)\n"
          ]
        }
      ]
    }
  ]
}